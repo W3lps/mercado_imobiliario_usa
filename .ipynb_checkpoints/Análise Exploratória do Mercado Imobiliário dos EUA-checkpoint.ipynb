{
 "cells": [
  {
   "cell_type": "markdown",
   "id": "dfb9ac43",
   "metadata": {},
   "source": [
    "# Análise de Venda de Imóveis nos Estados Unidos\n",
    "   Este projeto tem como objetivo realizar uma Análise Exploratória de Dados (EDA) para obter insights sobre as vendas de imóveis em 15 estados dos Estados Unidos. O foco é examinar um conjunto abrangente de dados de vendas de imóveis e fornecer insights valiosos para entender o mercado imobiliário no país. Por meio da exploração e visualização dos dados, pretendemos identificar padrões, tendências e relacionamentos dentro do mercado imobiliário, o que nos permitirá tomar decisões e observações embasadas.\n",
    "   - A base de dados foi disponibilizada na plataforma Kaggle\n",
    "   - Contém informações sobre venda de imóveis nos EUA\n",
    "   - Pode ser utilizada para ajudar na hora de estimar valores de vendas de imóveis\n",
    "\n",
    "   É importante ressaltar que este projeto é baseado no modelo descrito no livro \"Think Stats Exploratory Data Analysis\", escrito por Allen B. Downey. Estou utilizando esse livro com o objetivo de aprimorar meus conhecimentos estatísticos e de análise de dados, buscando aprender e complementar minhas habilidades nessa área. <br>\n",
    "   *A base de dados utilizada no livro é diferente da qual utilizarei para a realização do projeto."
   ]
  },
  {
   "cell_type": "code",
   "execution_count": 399,
   "id": "185f6a4d",
   "metadata": {},
   "outputs": [],
   "source": [
    "import pandas as pd\n",
    "import numpy as np"
   ]
  },
  {
   "cell_type": "code",
   "execution_count": 400,
   "id": "9a01e51c",
   "metadata": {
    "scrolled": true
   },
   "outputs": [
    {
     "data": {
      "text/html": [
       "<div>\n",
       "<style scoped>\n",
       "    .dataframe tbody tr th:only-of-type {\n",
       "        vertical-align: middle;\n",
       "    }\n",
       "\n",
       "    .dataframe tbody tr th {\n",
       "        vertical-align: top;\n",
       "    }\n",
       "\n",
       "    .dataframe thead th {\n",
       "        text-align: right;\n",
       "    }\n",
       "</style>\n",
       "<table border=\"1\" class=\"dataframe\">\n",
       "  <thead>\n",
       "    <tr style=\"text-align: right;\">\n",
       "      <th></th>\n",
       "      <th>status</th>\n",
       "      <th>bed</th>\n",
       "      <th>bath</th>\n",
       "      <th>acre_lot</th>\n",
       "      <th>city</th>\n",
       "      <th>state</th>\n",
       "      <th>zip_code</th>\n",
       "      <th>house_size</th>\n",
       "      <th>prev_sold_date</th>\n",
       "      <th>price</th>\n",
       "    </tr>\n",
       "  </thead>\n",
       "  <tbody>\n",
       "    <tr>\n",
       "      <th>0</th>\n",
       "      <td>for_sale</td>\n",
       "      <td>3.0</td>\n",
       "      <td>2.0</td>\n",
       "      <td>0.12</td>\n",
       "      <td>Adjuntas</td>\n",
       "      <td>Puerto Rico</td>\n",
       "      <td>601.0</td>\n",
       "      <td>920.0</td>\n",
       "      <td>NaN</td>\n",
       "      <td>105000.0</td>\n",
       "    </tr>\n",
       "    <tr>\n",
       "      <th>1</th>\n",
       "      <td>for_sale</td>\n",
       "      <td>4.0</td>\n",
       "      <td>2.0</td>\n",
       "      <td>0.08</td>\n",
       "      <td>Adjuntas</td>\n",
       "      <td>Puerto Rico</td>\n",
       "      <td>601.0</td>\n",
       "      <td>1527.0</td>\n",
       "      <td>NaN</td>\n",
       "      <td>80000.0</td>\n",
       "    </tr>\n",
       "    <tr>\n",
       "      <th>2</th>\n",
       "      <td>for_sale</td>\n",
       "      <td>2.0</td>\n",
       "      <td>1.0</td>\n",
       "      <td>0.15</td>\n",
       "      <td>Juana Diaz</td>\n",
       "      <td>Puerto Rico</td>\n",
       "      <td>795.0</td>\n",
       "      <td>748.0</td>\n",
       "      <td>NaN</td>\n",
       "      <td>67000.0</td>\n",
       "    </tr>\n",
       "    <tr>\n",
       "      <th>3</th>\n",
       "      <td>for_sale</td>\n",
       "      <td>4.0</td>\n",
       "      <td>2.0</td>\n",
       "      <td>0.10</td>\n",
       "      <td>Ponce</td>\n",
       "      <td>Puerto Rico</td>\n",
       "      <td>731.0</td>\n",
       "      <td>1800.0</td>\n",
       "      <td>NaN</td>\n",
       "      <td>145000.0</td>\n",
       "    </tr>\n",
       "    <tr>\n",
       "      <th>4</th>\n",
       "      <td>for_sale</td>\n",
       "      <td>6.0</td>\n",
       "      <td>2.0</td>\n",
       "      <td>0.05</td>\n",
       "      <td>Mayaguez</td>\n",
       "      <td>Puerto Rico</td>\n",
       "      <td>680.0</td>\n",
       "      <td>NaN</td>\n",
       "      <td>NaN</td>\n",
       "      <td>65000.0</td>\n",
       "    </tr>\n",
       "  </tbody>\n",
       "</table>\n",
       "</div>"
      ],
      "text/plain": [
       "     status  bed  bath  acre_lot        city        state  zip_code  \\\n",
       "0  for_sale  3.0   2.0      0.12    Adjuntas  Puerto Rico     601.0   \n",
       "1  for_sale  4.0   2.0      0.08    Adjuntas  Puerto Rico     601.0   \n",
       "2  for_sale  2.0   1.0      0.15  Juana Diaz  Puerto Rico     795.0   \n",
       "3  for_sale  4.0   2.0      0.10       Ponce  Puerto Rico     731.0   \n",
       "4  for_sale  6.0   2.0      0.05    Mayaguez  Puerto Rico     680.0   \n",
       "\n",
       "   house_size prev_sold_date     price  \n",
       "0       920.0            NaN  105000.0  \n",
       "1      1527.0            NaN   80000.0  \n",
       "2       748.0            NaN   67000.0  \n",
       "3      1800.0            NaN  145000.0  \n",
       "4         NaN            NaN   65000.0  "
      ]
     },
     "execution_count": 400,
     "metadata": {},
     "output_type": "execute_result"
    }
   ],
   "source": [
    "df = pd.read_csv('data/realtor-data.csv')\n",
    "df.head()"
   ]
  },
  {
   "cell_type": "markdown",
   "id": "ac98b7b8",
   "metadata": {},
   "source": [
    "De acordo com as informações disponibilizadas no Kaggle, o tamanho do lote está em acres e o tamanho da casa está em pés². Irei converte-los para metros quadrados para facilitar a interpretação"
   ]
  },
  {
   "cell_type": "code",
   "execution_count": 401,
   "id": "e04f4a89",
   "metadata": {},
   "outputs": [
    {
     "data": {
      "text/plain": [
       "(407890, 10)"
      ]
     },
     "execution_count": 401,
     "metadata": {},
     "output_type": "execute_result"
    }
   ],
   "source": [
    "df.shape"
   ]
  },
  {
   "cell_type": "code",
   "execution_count": 402,
   "id": "764bd54a",
   "metadata": {},
   "outputs": [
    {
     "name": "stdout",
     "output_type": "stream",
     "text": [
      "<class 'pandas.core.frame.DataFrame'>\n",
      "RangeIndex: 407890 entries, 0 to 407889\n",
      "Data columns (total 10 columns):\n",
      " #   Column          Non-Null Count   Dtype  \n",
      "---  ------          --------------   -----  \n",
      " 0   status          407890 non-null  object \n",
      " 1   bed             320108 non-null  float64\n",
      " 2   bath            321618 non-null  float64\n",
      " 3   acre_lot        331873 non-null  float64\n",
      " 4   city            407838 non-null  object \n",
      " 5   state           407890 non-null  object \n",
      " 6   zip_code        407693 non-null  float64\n",
      " 7   house_size      324365 non-null  float64\n",
      " 8   prev_sold_date  140950 non-null  object \n",
      " 9   price           407890 non-null  float64\n",
      "dtypes: float64(6), object(4)\n",
      "memory usage: 31.1+ MB\n"
     ]
    }
   ],
   "source": [
    "df.info()"
   ]
  },
  {
   "cell_type": "code",
   "execution_count": 403,
   "id": "748aed3f",
   "metadata": {},
   "outputs": [
    {
     "data": {
      "text/plain": [
       "Massachusetts     173479\n",
       "New Hampshire      51394\n",
       "Vermont            46460\n",
       "Connecticut        38180\n",
       "Maine              36650\n",
       "Rhode Island       28518\n",
       "Puerto Rico        24679\n",
       "New York            5829\n",
       "Virgin Islands      2573\n",
       "Georgia               48\n",
       "South Carolina        24\n",
       "Tennessee             20\n",
       "Virginia              20\n",
       "New Jersey            13\n",
       "Wyoming                3\n",
       "Name: state, dtype: int64"
      ]
     },
     "execution_count": 403,
     "metadata": {},
     "output_type": "execute_result"
    }
   ],
   "source": [
    "df['state'].value_counts()"
   ]
  },
  {
   "cell_type": "markdown",
   "id": "01de7476",
   "metadata": {},
   "source": [
    "A maioria dos estados com dados neste dataset pertence a subregião dos EUA chamada de Nova Inglaterra, à exeção de Puerto Rico e Virgin Islands todos os estados com mais de 2 mil registros estão localizados nesta região."
   ]
  },
  {
   "cell_type": "code",
   "execution_count": 404,
   "id": "194f7227",
   "metadata": {},
   "outputs": [
    {
     "data": {
      "text/plain": [
       "Boston         31502\n",
       "San Juan        4788\n",
       "Providence      4222\n",
       "Springfield     3987\n",
       "Worcester       3697\n",
       "Ludlow          3467\n",
       "Hartford        3463\n",
       "Cambridge       3341\n",
       "Manchester      3112\n",
       "Somerville      2717\n",
       "Brookline       2685\n",
       "Pittsfield      2595\n",
       "Newton          2578\n",
       "Bristol         2452\n",
       "Killington      2264\n",
       "Name: city, dtype: int64"
      ]
     },
     "execution_count": 404,
     "metadata": {},
     "output_type": "execute_result"
    }
   ],
   "source": [
    "cid = df['city'].value_counts()\n",
    "cid.head(15)"
   ]
  },
  {
   "cell_type": "code",
   "execution_count": 405,
   "id": "e21376a2",
   "metadata": {},
   "outputs": [
    {
     "data": {
      "text/html": [
       "<div>\n",
       "<style scoped>\n",
       "    .dataframe tbody tr th:only-of-type {\n",
       "        vertical-align: middle;\n",
       "    }\n",
       "\n",
       "    .dataframe tbody tr th {\n",
       "        vertical-align: top;\n",
       "    }\n",
       "\n",
       "    .dataframe thead th {\n",
       "        text-align: right;\n",
       "    }\n",
       "</style>\n",
       "<table border=\"1\" class=\"dataframe\">\n",
       "  <thead>\n",
       "    <tr style=\"text-align: right;\">\n",
       "      <th></th>\n",
       "      <th>bed</th>\n",
       "      <th>bath</th>\n",
       "      <th>acre_lot</th>\n",
       "      <th>zip_code</th>\n",
       "      <th>house_size</th>\n",
       "      <th>price</th>\n",
       "    </tr>\n",
       "  </thead>\n",
       "  <tbody>\n",
       "    <tr>\n",
       "      <th>count</th>\n",
       "      <td>320108.000000</td>\n",
       "      <td>321618.000000</td>\n",
       "      <td>331873.000000</td>\n",
       "      <td>407693.000000</td>\n",
       "      <td>3.243650e+05</td>\n",
       "      <td>4.078900e+05</td>\n",
       "    </tr>\n",
       "    <tr>\n",
       "      <th>mean</th>\n",
       "      <td>3.500200</td>\n",
       "      <td>2.566545</td>\n",
       "      <td>17.418487</td>\n",
       "      <td>3299.396838</td>\n",
       "      <td>2.222783e+03</td>\n",
       "      <td>6.758307e+05</td>\n",
       "    </tr>\n",
       "    <tr>\n",
       "      <th>std</th>\n",
       "      <td>2.320135</td>\n",
       "      <td>2.391618</td>\n",
       "      <td>931.723094</td>\n",
       "      <td>2222.641467</td>\n",
       "      <td>3.333098e+03</td>\n",
       "      <td>1.178266e+06</td>\n",
       "    </tr>\n",
       "    <tr>\n",
       "      <th>min</th>\n",
       "      <td>1.000000</td>\n",
       "      <td>1.000000</td>\n",
       "      <td>0.000000</td>\n",
       "      <td>601.000000</td>\n",
       "      <td>1.000000e+02</td>\n",
       "      <td>1.000000e+00</td>\n",
       "    </tr>\n",
       "    <tr>\n",
       "      <th>25%</th>\n",
       "      <td>2.000000</td>\n",
       "      <td>2.000000</td>\n",
       "      <td>0.200000</td>\n",
       "      <td>1890.000000</td>\n",
       "      <td>1.206000e+03</td>\n",
       "      <td>1.999000e+05</td>\n",
       "    </tr>\n",
       "    <tr>\n",
       "      <th>50%</th>\n",
       "      <td>3.000000</td>\n",
       "      <td>2.000000</td>\n",
       "      <td>0.560000</td>\n",
       "      <td>2822.000000</td>\n",
       "      <td>1.767000e+03</td>\n",
       "      <td>3.979000e+05</td>\n",
       "    </tr>\n",
       "    <tr>\n",
       "      <th>75%</th>\n",
       "      <td>4.000000</td>\n",
       "      <td>3.000000</td>\n",
       "      <td>2.200000</td>\n",
       "      <td>4630.000000</td>\n",
       "      <td>2.640000e+03</td>\n",
       "      <td>7.090000e+05</td>\n",
       "    </tr>\n",
       "    <tr>\n",
       "      <th>max</th>\n",
       "      <td>99.000000</td>\n",
       "      <td>198.000000</td>\n",
       "      <td>100000.000000</td>\n",
       "      <td>99999.000000</td>\n",
       "      <td>1.450112e+06</td>\n",
       "      <td>6.000000e+07</td>\n",
       "    </tr>\n",
       "  </tbody>\n",
       "</table>\n",
       "</div>"
      ],
      "text/plain": [
       "                 bed           bath       acre_lot       zip_code  \\\n",
       "count  320108.000000  321618.000000  331873.000000  407693.000000   \n",
       "mean        3.500200       2.566545      17.418487    3299.396838   \n",
       "std         2.320135       2.391618     931.723094    2222.641467   \n",
       "min         1.000000       1.000000       0.000000     601.000000   \n",
       "25%         2.000000       2.000000       0.200000    1890.000000   \n",
       "50%         3.000000       2.000000       0.560000    2822.000000   \n",
       "75%         4.000000       3.000000       2.200000    4630.000000   \n",
       "max        99.000000     198.000000  100000.000000   99999.000000   \n",
       "\n",
       "         house_size         price  \n",
       "count  3.243650e+05  4.078900e+05  \n",
       "mean   2.222783e+03  6.758307e+05  \n",
       "std    3.333098e+03  1.178266e+06  \n",
       "min    1.000000e+02  1.000000e+00  \n",
       "25%    1.206000e+03  1.999000e+05  \n",
       "50%    1.767000e+03  3.979000e+05  \n",
       "75%    2.640000e+03  7.090000e+05  \n",
       "max    1.450112e+06  6.000000e+07  "
      ]
     },
     "execution_count": 405,
     "metadata": {},
     "output_type": "execute_result"
    }
   ],
   "source": [
    "df.describe()"
   ]
  },
  {
   "cell_type": "markdown",
   "id": "f0dc0a84",
   "metadata": {},
   "source": [
    "## Transformação de Dados"
   ]
  },
  {
   "cell_type": "code",
   "execution_count": 406,
   "id": "69883f2f",
   "metadata": {},
   "outputs": [
    {
     "data": {
      "text/plain": [
       "status             0.000000\n",
       "bed               21.520998\n",
       "bath              21.150800\n",
       "acre_lot          18.636642\n",
       "city               0.012749\n",
       "state              0.000000\n",
       "zip_code           0.048297\n",
       "house_size        20.477335\n",
       "prev_sold_date    65.444115\n",
       "price              0.000000\n",
       "dtype: float64"
      ]
     },
     "execution_count": 406,
     "metadata": {},
     "output_type": "execute_result"
    }
   ],
   "source": [
    "df.isna().sum() / len(df) * 100"
   ]
  },
  {
   "cell_type": "markdown",
   "id": "747a7618",
   "metadata": {},
   "source": [
    "Analisando os dados faltantes é possível fazer algumas presunções:\n",
    "- O número de quartos, banheiros e tamanho de casa nulos é bem próximo o que pode indicar a venda de lotes ao invés de construções.\n",
    "- As labels com tamanho do terreno nulo podem indicar um apartamento, casa geminada ou simplesmente uma casa com porta para a rua.\n",
    "- A variável 'prev_sold_date' indica a data em que o imóvel foi vendido anteriormente, vou presumir que se o valor é nulo significa que a casa nunca foi vendida anteriormente."
   ]
  },
  {
   "cell_type": "code",
   "execution_count": 407,
   "id": "3ef3ec5d",
   "metadata": {},
   "outputs": [
    {
     "data": {
      "text/html": [
       "<div>\n",
       "<style scoped>\n",
       "    .dataframe tbody tr th:only-of-type {\n",
       "        vertical-align: middle;\n",
       "    }\n",
       "\n",
       "    .dataframe tbody tr th {\n",
       "        vertical-align: top;\n",
       "    }\n",
       "\n",
       "    .dataframe thead th {\n",
       "        text-align: right;\n",
       "    }\n",
       "</style>\n",
       "<table border=\"1\" class=\"dataframe\">\n",
       "  <thead>\n",
       "    <tr style=\"text-align: right;\">\n",
       "      <th></th>\n",
       "      <th>status</th>\n",
       "      <th>bed</th>\n",
       "      <th>bath</th>\n",
       "      <th>acre_lot</th>\n",
       "      <th>city</th>\n",
       "      <th>state</th>\n",
       "      <th>zip_code</th>\n",
       "      <th>house_size</th>\n",
       "      <th>prev_sold_date</th>\n",
       "      <th>price</th>\n",
       "    </tr>\n",
       "  </thead>\n",
       "  <tbody>\n",
       "    <tr>\n",
       "      <th>403970</th>\n",
       "      <td>for_sale</td>\n",
       "      <td>2.0</td>\n",
       "      <td>2.0</td>\n",
       "      <td>NaN</td>\n",
       "      <td>Waterbury</td>\n",
       "      <td>Connecticut</td>\n",
       "      <td>6708.0</td>\n",
       "      <td>960.0</td>\n",
       "      <td>NaN</td>\n",
       "      <td>115000.0</td>\n",
       "    </tr>\n",
       "    <tr>\n",
       "      <th>305782</th>\n",
       "      <td>for_sale</td>\n",
       "      <td>3.0</td>\n",
       "      <td>2.0</td>\n",
       "      <td>NaN</td>\n",
       "      <td>Lewiston</td>\n",
       "      <td>Maine</td>\n",
       "      <td>4240.0</td>\n",
       "      <td>1188.0</td>\n",
       "      <td>NaN</td>\n",
       "      <td>72000.0</td>\n",
       "    </tr>\n",
       "    <tr>\n",
       "      <th>105453</th>\n",
       "      <td>for_sale</td>\n",
       "      <td>2.0</td>\n",
       "      <td>1.0</td>\n",
       "      <td>NaN</td>\n",
       "      <td>Boston</td>\n",
       "      <td>Massachusetts</td>\n",
       "      <td>2130.0</td>\n",
       "      <td>930.0</td>\n",
       "      <td>NaN</td>\n",
       "      <td>609000.0</td>\n",
       "    </tr>\n",
       "    <tr>\n",
       "      <th>335860</th>\n",
       "      <td>for_sale</td>\n",
       "      <td>4.0</td>\n",
       "      <td>4.0</td>\n",
       "      <td>NaN</td>\n",
       "      <td>Hartford</td>\n",
       "      <td>Vermont</td>\n",
       "      <td>5059.0</td>\n",
       "      <td>2262.0</td>\n",
       "      <td>NaN</td>\n",
       "      <td>510000.0</td>\n",
       "    </tr>\n",
       "    <tr>\n",
       "      <th>145906</th>\n",
       "      <td>for_sale</td>\n",
       "      <td>1.0</td>\n",
       "      <td>1.0</td>\n",
       "      <td>NaN</td>\n",
       "      <td>Boston</td>\n",
       "      <td>Massachusetts</td>\n",
       "      <td>2127.0</td>\n",
       "      <td>700.0</td>\n",
       "      <td>NaN</td>\n",
       "      <td>779000.0</td>\n",
       "    </tr>\n",
       "    <tr>\n",
       "      <th>51825</th>\n",
       "      <td>for_sale</td>\n",
       "      <td>3.0</td>\n",
       "      <td>3.0</td>\n",
       "      <td>NaN</td>\n",
       "      <td>Vernon</td>\n",
       "      <td>Connecticut</td>\n",
       "      <td>6066.0</td>\n",
       "      <td>1303.0</td>\n",
       "      <td>2016-01-19</td>\n",
       "      <td>264900.0</td>\n",
       "    </tr>\n",
       "    <tr>\n",
       "      <th>163853</th>\n",
       "      <td>for_sale</td>\n",
       "      <td>3.0</td>\n",
       "      <td>2.0</td>\n",
       "      <td>NaN</td>\n",
       "      <td>Boston</td>\n",
       "      <td>Massachusetts</td>\n",
       "      <td>2135.0</td>\n",
       "      <td>1370.0</td>\n",
       "      <td>NaN</td>\n",
       "      <td>799000.0</td>\n",
       "    </tr>\n",
       "    <tr>\n",
       "      <th>21298</th>\n",
       "      <td>for_sale</td>\n",
       "      <td>3.0</td>\n",
       "      <td>2.0</td>\n",
       "      <td>NaN</td>\n",
       "      <td>San Juan</td>\n",
       "      <td>Puerto Rico</td>\n",
       "      <td>926.0</td>\n",
       "      <td>1250.0</td>\n",
       "      <td>NaN</td>\n",
       "      <td>245000.0</td>\n",
       "    </tr>\n",
       "    <tr>\n",
       "      <th>169685</th>\n",
       "      <td>for_sale</td>\n",
       "      <td>5.0</td>\n",
       "      <td>3.0</td>\n",
       "      <td>NaN</td>\n",
       "      <td>Cambridge</td>\n",
       "      <td>Massachusetts</td>\n",
       "      <td>2141.0</td>\n",
       "      <td>2342.0</td>\n",
       "      <td>NaN</td>\n",
       "      <td>2249000.0</td>\n",
       "    </tr>\n",
       "    <tr>\n",
       "      <th>66204</th>\n",
       "      <td>for_sale</td>\n",
       "      <td>4.0</td>\n",
       "      <td>3.0</td>\n",
       "      <td>NaN</td>\n",
       "      <td>Lenox</td>\n",
       "      <td>Massachusetts</td>\n",
       "      <td>1240.0</td>\n",
       "      <td>2392.0</td>\n",
       "      <td>2003-06-06</td>\n",
       "      <td>1250000.0</td>\n",
       "    </tr>\n",
       "    <tr>\n",
       "      <th>191250</th>\n",
       "      <td>for_sale</td>\n",
       "      <td>2.0</td>\n",
       "      <td>2.0</td>\n",
       "      <td>NaN</td>\n",
       "      <td>Boston</td>\n",
       "      <td>Massachusetts</td>\n",
       "      <td>2125.0</td>\n",
       "      <td>1066.0</td>\n",
       "      <td>1999-03-05</td>\n",
       "      <td>539888.0</td>\n",
       "    </tr>\n",
       "    <tr>\n",
       "      <th>96151</th>\n",
       "      <td>for_sale</td>\n",
       "      <td>2.0</td>\n",
       "      <td>2.0</td>\n",
       "      <td>NaN</td>\n",
       "      <td>Woonsocket</td>\n",
       "      <td>Rhode Island</td>\n",
       "      <td>2895.0</td>\n",
       "      <td>1005.0</td>\n",
       "      <td>2004-06-11</td>\n",
       "      <td>224900.0</td>\n",
       "    </tr>\n",
       "    <tr>\n",
       "      <th>245083</th>\n",
       "      <td>for_sale</td>\n",
       "      <td>2.0</td>\n",
       "      <td>2.0</td>\n",
       "      <td>NaN</td>\n",
       "      <td>Derry</td>\n",
       "      <td>New Hampshire</td>\n",
       "      <td>3038.0</td>\n",
       "      <td>1590.0</td>\n",
       "      <td>2016-09-01</td>\n",
       "      <td>327000.0</td>\n",
       "    </tr>\n",
       "    <tr>\n",
       "      <th>122341</th>\n",
       "      <td>for_sale</td>\n",
       "      <td>2.0</td>\n",
       "      <td>2.0</td>\n",
       "      <td>NaN</td>\n",
       "      <td>Medford</td>\n",
       "      <td>Massachusetts</td>\n",
       "      <td>2155.0</td>\n",
       "      <td>1254.0</td>\n",
       "      <td>1997-03-07</td>\n",
       "      <td>559000.0</td>\n",
       "    </tr>\n",
       "    <tr>\n",
       "      <th>246898</th>\n",
       "      <td>for_sale</td>\n",
       "      <td>2.0</td>\n",
       "      <td>2.0</td>\n",
       "      <td>NaN</td>\n",
       "      <td>Derry</td>\n",
       "      <td>New Hampshire</td>\n",
       "      <td>3038.0</td>\n",
       "      <td>1590.0</td>\n",
       "      <td>2016-09-01</td>\n",
       "      <td>327000.0</td>\n",
       "    </tr>\n",
       "    <tr>\n",
       "      <th>159963</th>\n",
       "      <td>for_sale</td>\n",
       "      <td>1.0</td>\n",
       "      <td>2.0</td>\n",
       "      <td>NaN</td>\n",
       "      <td>Cambridge</td>\n",
       "      <td>Massachusetts</td>\n",
       "      <td>2138.0</td>\n",
       "      <td>760.0</td>\n",
       "      <td>NaN</td>\n",
       "      <td>525000.0</td>\n",
       "    </tr>\n",
       "    <tr>\n",
       "      <th>52507</th>\n",
       "      <td>for_sale</td>\n",
       "      <td>5.0</td>\n",
       "      <td>4.0</td>\n",
       "      <td>NaN</td>\n",
       "      <td>Lenox</td>\n",
       "      <td>Massachusetts</td>\n",
       "      <td>1240.0</td>\n",
       "      <td>3500.0</td>\n",
       "      <td>NaN</td>\n",
       "      <td>1025000.0</td>\n",
       "    </tr>\n",
       "    <tr>\n",
       "      <th>172864</th>\n",
       "      <td>for_sale</td>\n",
       "      <td>2.0</td>\n",
       "      <td>2.0</td>\n",
       "      <td>NaN</td>\n",
       "      <td>Canton</td>\n",
       "      <td>Massachusetts</td>\n",
       "      <td>2021.0</td>\n",
       "      <td>1051.0</td>\n",
       "      <td>2018-07-27</td>\n",
       "      <td>489900.0</td>\n",
       "    </tr>\n",
       "    <tr>\n",
       "      <th>16360</th>\n",
       "      <td>for_sale</td>\n",
       "      <td>2.0</td>\n",
       "      <td>2.0</td>\n",
       "      <td>NaN</td>\n",
       "      <td>Carolina</td>\n",
       "      <td>Puerto Rico</td>\n",
       "      <td>979.0</td>\n",
       "      <td>1138.0</td>\n",
       "      <td>NaN</td>\n",
       "      <td>569000.0</td>\n",
       "    </tr>\n",
       "    <tr>\n",
       "      <th>396580</th>\n",
       "      <td>for_sale</td>\n",
       "      <td>1.0</td>\n",
       "      <td>1.0</td>\n",
       "      <td>NaN</td>\n",
       "      <td>South Windsor</td>\n",
       "      <td>Connecticut</td>\n",
       "      <td>6074.0</td>\n",
       "      <td>678.0</td>\n",
       "      <td>NaN</td>\n",
       "      <td>74900.0</td>\n",
       "    </tr>\n",
       "    <tr>\n",
       "      <th>113420</th>\n",
       "      <td>for_sale</td>\n",
       "      <td>3.0</td>\n",
       "      <td>2.0</td>\n",
       "      <td>NaN</td>\n",
       "      <td>Boston</td>\n",
       "      <td>Massachusetts</td>\n",
       "      <td>2125.0</td>\n",
       "      <td>1650.0</td>\n",
       "      <td>NaN</td>\n",
       "      <td>879000.0</td>\n",
       "    </tr>\n",
       "    <tr>\n",
       "      <th>243939</th>\n",
       "      <td>for_sale</td>\n",
       "      <td>2.0</td>\n",
       "      <td>2.0</td>\n",
       "      <td>NaN</td>\n",
       "      <td>North Providence</td>\n",
       "      <td>Rhode Island</td>\n",
       "      <td>2904.0</td>\n",
       "      <td>1368.0</td>\n",
       "      <td>NaN</td>\n",
       "      <td>220000.0</td>\n",
       "    </tr>\n",
       "    <tr>\n",
       "      <th>140794</th>\n",
       "      <td>for_sale</td>\n",
       "      <td>2.0</td>\n",
       "      <td>2.0</td>\n",
       "      <td>NaN</td>\n",
       "      <td>Walpole</td>\n",
       "      <td>Massachusetts</td>\n",
       "      <td>2081.0</td>\n",
       "      <td>1515.0</td>\n",
       "      <td>NaN</td>\n",
       "      <td>574995.0</td>\n",
       "    </tr>\n",
       "    <tr>\n",
       "      <th>204780</th>\n",
       "      <td>for_sale</td>\n",
       "      <td>3.0</td>\n",
       "      <td>2.0</td>\n",
       "      <td>NaN</td>\n",
       "      <td>Plymouth</td>\n",
       "      <td>Massachusetts</td>\n",
       "      <td>2360.0</td>\n",
       "      <td>1392.0</td>\n",
       "      <td>2005-08-31</td>\n",
       "      <td>419900.0</td>\n",
       "    </tr>\n",
       "    <tr>\n",
       "      <th>176704</th>\n",
       "      <td>for_sale</td>\n",
       "      <td>2.0</td>\n",
       "      <td>2.0</td>\n",
       "      <td>NaN</td>\n",
       "      <td>Boston</td>\n",
       "      <td>Massachusetts</td>\n",
       "      <td>2118.0</td>\n",
       "      <td>1234.0</td>\n",
       "      <td>NaN</td>\n",
       "      <td>2131000.0</td>\n",
       "    </tr>\n",
       "  </tbody>\n",
       "</table>\n",
       "</div>"
      ],
      "text/plain": [
       "          status  bed  bath  acre_lot              city          state  \\\n",
       "403970  for_sale  2.0   2.0       NaN         Waterbury    Connecticut   \n",
       "305782  for_sale  3.0   2.0       NaN          Lewiston          Maine   \n",
       "105453  for_sale  2.0   1.0       NaN            Boston  Massachusetts   \n",
       "335860  for_sale  4.0   4.0       NaN          Hartford        Vermont   \n",
       "145906  for_sale  1.0   1.0       NaN            Boston  Massachusetts   \n",
       "51825   for_sale  3.0   3.0       NaN            Vernon    Connecticut   \n",
       "163853  for_sale  3.0   2.0       NaN            Boston  Massachusetts   \n",
       "21298   for_sale  3.0   2.0       NaN          San Juan    Puerto Rico   \n",
       "169685  for_sale  5.0   3.0       NaN         Cambridge  Massachusetts   \n",
       "66204   for_sale  4.0   3.0       NaN             Lenox  Massachusetts   \n",
       "191250  for_sale  2.0   2.0       NaN            Boston  Massachusetts   \n",
       "96151   for_sale  2.0   2.0       NaN        Woonsocket   Rhode Island   \n",
       "245083  for_sale  2.0   2.0       NaN             Derry  New Hampshire   \n",
       "122341  for_sale  2.0   2.0       NaN           Medford  Massachusetts   \n",
       "246898  for_sale  2.0   2.0       NaN             Derry  New Hampshire   \n",
       "159963  for_sale  1.0   2.0       NaN         Cambridge  Massachusetts   \n",
       "52507   for_sale  5.0   4.0       NaN             Lenox  Massachusetts   \n",
       "172864  for_sale  2.0   2.0       NaN            Canton  Massachusetts   \n",
       "16360   for_sale  2.0   2.0       NaN          Carolina    Puerto Rico   \n",
       "396580  for_sale  1.0   1.0       NaN     South Windsor    Connecticut   \n",
       "113420  for_sale  3.0   2.0       NaN            Boston  Massachusetts   \n",
       "243939  for_sale  2.0   2.0       NaN  North Providence   Rhode Island   \n",
       "140794  for_sale  2.0   2.0       NaN           Walpole  Massachusetts   \n",
       "204780  for_sale  3.0   2.0       NaN          Plymouth  Massachusetts   \n",
       "176704  for_sale  2.0   2.0       NaN            Boston  Massachusetts   \n",
       "\n",
       "        zip_code  house_size prev_sold_date      price  \n",
       "403970    6708.0       960.0            NaN   115000.0  \n",
       "305782    4240.0      1188.0            NaN    72000.0  \n",
       "105453    2130.0       930.0            NaN   609000.0  \n",
       "335860    5059.0      2262.0            NaN   510000.0  \n",
       "145906    2127.0       700.0            NaN   779000.0  \n",
       "51825     6066.0      1303.0     2016-01-19   264900.0  \n",
       "163853    2135.0      1370.0            NaN   799000.0  \n",
       "21298      926.0      1250.0            NaN   245000.0  \n",
       "169685    2141.0      2342.0            NaN  2249000.0  \n",
       "66204     1240.0      2392.0     2003-06-06  1250000.0  \n",
       "191250    2125.0      1066.0     1999-03-05   539888.0  \n",
       "96151     2895.0      1005.0     2004-06-11   224900.0  \n",
       "245083    3038.0      1590.0     2016-09-01   327000.0  \n",
       "122341    2155.0      1254.0     1997-03-07   559000.0  \n",
       "246898    3038.0      1590.0     2016-09-01   327000.0  \n",
       "159963    2138.0       760.0            NaN   525000.0  \n",
       "52507     1240.0      3500.0            NaN  1025000.0  \n",
       "172864    2021.0      1051.0     2018-07-27   489900.0  \n",
       "16360      979.0      1138.0            NaN   569000.0  \n",
       "396580    6074.0       678.0            NaN    74900.0  \n",
       "113420    2125.0      1650.0            NaN   879000.0  \n",
       "243939    2904.0      1368.0            NaN   220000.0  \n",
       "140794    2081.0      1515.0            NaN   574995.0  \n",
       "204780    2360.0      1392.0     2005-08-31   419900.0  \n",
       "176704    2118.0      1234.0            NaN  2131000.0  "
      ]
     },
     "execution_count": 407,
     "metadata": {},
     "output_type": "execute_result"
    }
   ],
   "source": [
    "#possíveis apartamentos\n",
    "df.loc[(df['house_size'] > 0) & (df['bed'] > 0) & (df['bath'] > 0) & (df['acre_lot'].isna())].sample(25)"
   ]
  },
  {
   "cell_type": "markdown",
   "id": "b12e20da",
   "metadata": {},
   "source": [
    "Há um bom número de labels que se encaixam nesse filtro e aparentam ter dados válidos contendo informações sobre o endereço e o preço de venda do imóvel. Irei dar um flag neles como possívelmente apartamentos."
   ]
  },
  {
   "cell_type": "code",
   "execution_count": 408,
   "id": "97af42af",
   "metadata": {},
   "outputs": [],
   "source": [
    "df['apto'] = False\n",
    "df.loc[(df['house_size'] > 0) & (df['bed'] > 0) & (df['bath'] > 0) & (df['acre_lot'].isna()), 'apto'] = True\n",
    "\n",
    "df.loc[df['apto'] == True, 'acre_lot'] = 0.0"
   ]
  },
  {
   "cell_type": "code",
   "execution_count": 409,
   "id": "c765c0f2",
   "metadata": {},
   "outputs": [
    {
     "data": {
      "text/plain": [
       "status                 0\n",
       "bed                87782\n",
       "bath               86272\n",
       "acre_lot            2917\n",
       "city                  52\n",
       "state                  0\n",
       "zip_code             197\n",
       "house_size         83525\n",
       "prev_sold_date    266940\n",
       "price                  0\n",
       "apto                   0\n",
       "dtype: int64"
      ]
     },
     "execution_count": 409,
     "metadata": {},
     "output_type": "execute_result"
    }
   ],
   "source": [
    "df.isna().sum()"
   ]
  },
  {
   "cell_type": "markdown",
   "id": "2347429f",
   "metadata": {},
   "source": [
    "Ok, consegui lidar com a maioria dos nulos referentes a 'acre_lot', agora é só fazer o mesmo com os possíveis lotes."
   ]
  },
  {
   "cell_type": "code",
   "execution_count": 410,
   "id": "04bd6845",
   "metadata": {},
   "outputs": [
    {
     "data": {
      "text/html": [
       "<div>\n",
       "<style scoped>\n",
       "    .dataframe tbody tr th:only-of-type {\n",
       "        vertical-align: middle;\n",
       "    }\n",
       "\n",
       "    .dataframe tbody tr th {\n",
       "        vertical-align: top;\n",
       "    }\n",
       "\n",
       "    .dataframe thead th {\n",
       "        text-align: right;\n",
       "    }\n",
       "</style>\n",
       "<table border=\"1\" class=\"dataframe\">\n",
       "  <thead>\n",
       "    <tr style=\"text-align: right;\">\n",
       "      <th></th>\n",
       "      <th>status</th>\n",
       "      <th>bed</th>\n",
       "      <th>bath</th>\n",
       "      <th>acre_lot</th>\n",
       "      <th>city</th>\n",
       "      <th>state</th>\n",
       "      <th>zip_code</th>\n",
       "      <th>house_size</th>\n",
       "      <th>prev_sold_date</th>\n",
       "      <th>price</th>\n",
       "      <th>apto</th>\n",
       "    </tr>\n",
       "  </thead>\n",
       "  <tbody>\n",
       "    <tr>\n",
       "      <th>376841</th>\n",
       "      <td>for_sale</td>\n",
       "      <td>NaN</td>\n",
       "      <td>NaN</td>\n",
       "      <td>10.15</td>\n",
       "      <td>Greenwich</td>\n",
       "      <td>New York</td>\n",
       "      <td>12834.0</td>\n",
       "      <td>NaN</td>\n",
       "      <td>NaN</td>\n",
       "      <td>69950.0</td>\n",
       "      <td>False</td>\n",
       "    </tr>\n",
       "    <tr>\n",
       "      <th>329442</th>\n",
       "      <td>for_sale</td>\n",
       "      <td>NaN</td>\n",
       "      <td>NaN</td>\n",
       "      <td>10.00</td>\n",
       "      <td>Morrill</td>\n",
       "      <td>Maine</td>\n",
       "      <td>4952.0</td>\n",
       "      <td>NaN</td>\n",
       "      <td>NaN</td>\n",
       "      <td>59000.0</td>\n",
       "      <td>False</td>\n",
       "    </tr>\n",
       "    <tr>\n",
       "      <th>255709</th>\n",
       "      <td>for_sale</td>\n",
       "      <td>NaN</td>\n",
       "      <td>NaN</td>\n",
       "      <td>184.00</td>\n",
       "      <td>New Hampton</td>\n",
       "      <td>New Hampshire</td>\n",
       "      <td>3256.0</td>\n",
       "      <td>NaN</td>\n",
       "      <td>NaN</td>\n",
       "      <td>1899000.0</td>\n",
       "      <td>False</td>\n",
       "    </tr>\n",
       "    <tr>\n",
       "      <th>361614</th>\n",
       "      <td>for_sale</td>\n",
       "      <td>NaN</td>\n",
       "      <td>NaN</td>\n",
       "      <td>1.42</td>\n",
       "      <td>Barre</td>\n",
       "      <td>Vermont</td>\n",
       "      <td>5641.0</td>\n",
       "      <td>NaN</td>\n",
       "      <td>NaN</td>\n",
       "      <td>285000.0</td>\n",
       "      <td>False</td>\n",
       "    </tr>\n",
       "    <tr>\n",
       "      <th>17931</th>\n",
       "      <td>for_sale</td>\n",
       "      <td>NaN</td>\n",
       "      <td>NaN</td>\n",
       "      <td>0.64</td>\n",
       "      <td>Christiansted</td>\n",
       "      <td>Virgin Islands</td>\n",
       "      <td>820.0</td>\n",
       "      <td>NaN</td>\n",
       "      <td>NaN</td>\n",
       "      <td>64000.0</td>\n",
       "      <td>False</td>\n",
       "    </tr>\n",
       "    <tr>\n",
       "      <th>55020</th>\n",
       "      <td>for_sale</td>\n",
       "      <td>NaN</td>\n",
       "      <td>NaN</td>\n",
       "      <td>6.80</td>\n",
       "      <td>New Lebanon</td>\n",
       "      <td>New York</td>\n",
       "      <td>12212.0</td>\n",
       "      <td>NaN</td>\n",
       "      <td>NaN</td>\n",
       "      <td>89000.0</td>\n",
       "      <td>False</td>\n",
       "    </tr>\n",
       "    <tr>\n",
       "      <th>201206</th>\n",
       "      <td>for_sale</td>\n",
       "      <td>NaN</td>\n",
       "      <td>NaN</td>\n",
       "      <td>6.00</td>\n",
       "      <td>East Sandwich</td>\n",
       "      <td>Massachusetts</td>\n",
       "      <td>2537.0</td>\n",
       "      <td>NaN</td>\n",
       "      <td>NaN</td>\n",
       "      <td>750000.0</td>\n",
       "      <td>False</td>\n",
       "    </tr>\n",
       "    <tr>\n",
       "      <th>34129</th>\n",
       "      <td>for_sale</td>\n",
       "      <td>NaN</td>\n",
       "      <td>NaN</td>\n",
       "      <td>3.99</td>\n",
       "      <td>Hatfield</td>\n",
       "      <td>Massachusetts</td>\n",
       "      <td>1038.0</td>\n",
       "      <td>NaN</td>\n",
       "      <td>NaN</td>\n",
       "      <td>65000.0</td>\n",
       "      <td>False</td>\n",
       "    </tr>\n",
       "    <tr>\n",
       "      <th>260581</th>\n",
       "      <td>for_sale</td>\n",
       "      <td>NaN</td>\n",
       "      <td>NaN</td>\n",
       "      <td>2.11</td>\n",
       "      <td>Thornton</td>\n",
       "      <td>New Hampshire</td>\n",
       "      <td>3285.0</td>\n",
       "      <td>NaN</td>\n",
       "      <td>NaN</td>\n",
       "      <td>150000.0</td>\n",
       "      <td>False</td>\n",
       "    </tr>\n",
       "    <tr>\n",
       "      <th>269298</th>\n",
       "      <td>for_sale</td>\n",
       "      <td>NaN</td>\n",
       "      <td>NaN</td>\n",
       "      <td>1.94</td>\n",
       "      <td>New London</td>\n",
       "      <td>New Hampshire</td>\n",
       "      <td>3257.0</td>\n",
       "      <td>NaN</td>\n",
       "      <td>NaN</td>\n",
       "      <td>100000.0</td>\n",
       "      <td>False</td>\n",
       "    </tr>\n",
       "    <tr>\n",
       "      <th>308274</th>\n",
       "      <td>for_sale</td>\n",
       "      <td>NaN</td>\n",
       "      <td>NaN</td>\n",
       "      <td>9.10</td>\n",
       "      <td>Monmouth</td>\n",
       "      <td>Maine</td>\n",
       "      <td>4265.0</td>\n",
       "      <td>NaN</td>\n",
       "      <td>NaN</td>\n",
       "      <td>99000.0</td>\n",
       "      <td>False</td>\n",
       "    </tr>\n",
       "    <tr>\n",
       "      <th>42633</th>\n",
       "      <td>for_sale</td>\n",
       "      <td>NaN</td>\n",
       "      <td>NaN</td>\n",
       "      <td>32.21</td>\n",
       "      <td>Somers</td>\n",
       "      <td>Connecticut</td>\n",
       "      <td>6071.0</td>\n",
       "      <td>NaN</td>\n",
       "      <td>NaN</td>\n",
       "      <td>299000.0</td>\n",
       "      <td>False</td>\n",
       "    </tr>\n",
       "    <tr>\n",
       "      <th>30870</th>\n",
       "      <td>for_sale</td>\n",
       "      <td>NaN</td>\n",
       "      <td>NaN</td>\n",
       "      <td>0.94</td>\n",
       "      <td>Granby</td>\n",
       "      <td>Massachusetts</td>\n",
       "      <td>1033.0</td>\n",
       "      <td>NaN</td>\n",
       "      <td>NaN</td>\n",
       "      <td>47000.0</td>\n",
       "      <td>False</td>\n",
       "    </tr>\n",
       "    <tr>\n",
       "      <th>261321</th>\n",
       "      <td>for_sale</td>\n",
       "      <td>NaN</td>\n",
       "      <td>NaN</td>\n",
       "      <td>14.06</td>\n",
       "      <td>Washington</td>\n",
       "      <td>New Hampshire</td>\n",
       "      <td>3280.0</td>\n",
       "      <td>NaN</td>\n",
       "      <td>NaN</td>\n",
       "      <td>239000.0</td>\n",
       "      <td>False</td>\n",
       "    </tr>\n",
       "    <tr>\n",
       "      <th>364355</th>\n",
       "      <td>for_sale</td>\n",
       "      <td>NaN</td>\n",
       "      <td>NaN</td>\n",
       "      <td>5.90</td>\n",
       "      <td>Warren</td>\n",
       "      <td>Vermont</td>\n",
       "      <td>5674.0</td>\n",
       "      <td>NaN</td>\n",
       "      <td>NaN</td>\n",
       "      <td>300000.0</td>\n",
       "      <td>False</td>\n",
       "    </tr>\n",
       "    <tr>\n",
       "      <th>103164</th>\n",
       "      <td>for_sale</td>\n",
       "      <td>NaN</td>\n",
       "      <td>NaN</td>\n",
       "      <td>1.94</td>\n",
       "      <td>Concord</td>\n",
       "      <td>Massachusetts</td>\n",
       "      <td>1742.0</td>\n",
       "      <td>NaN</td>\n",
       "      <td>NaN</td>\n",
       "      <td>1975000.0</td>\n",
       "      <td>False</td>\n",
       "    </tr>\n",
       "    <tr>\n",
       "      <th>26420</th>\n",
       "      <td>for_sale</td>\n",
       "      <td>NaN</td>\n",
       "      <td>NaN</td>\n",
       "      <td>0.31</td>\n",
       "      <td>Guaynabo</td>\n",
       "      <td>Puerto Rico</td>\n",
       "      <td>971.0</td>\n",
       "      <td>NaN</td>\n",
       "      <td>NaN</td>\n",
       "      <td>140000.0</td>\n",
       "      <td>False</td>\n",
       "    </tr>\n",
       "    <tr>\n",
       "      <th>399911</th>\n",
       "      <td>for_sale</td>\n",
       "      <td>NaN</td>\n",
       "      <td>NaN</td>\n",
       "      <td>8.00</td>\n",
       "      <td>Westfield</td>\n",
       "      <td>Massachusetts</td>\n",
       "      <td>1085.0</td>\n",
       "      <td>NaN</td>\n",
       "      <td>NaN</td>\n",
       "      <td>55000.0</td>\n",
       "      <td>False</td>\n",
       "    </tr>\n",
       "    <tr>\n",
       "      <th>261810</th>\n",
       "      <td>for_sale</td>\n",
       "      <td>NaN</td>\n",
       "      <td>NaN</td>\n",
       "      <td>4.50</td>\n",
       "      <td>Newport</td>\n",
       "      <td>New Hampshire</td>\n",
       "      <td>3773.0</td>\n",
       "      <td>NaN</td>\n",
       "      <td>NaN</td>\n",
       "      <td>70000.0</td>\n",
       "      <td>False</td>\n",
       "    </tr>\n",
       "    <tr>\n",
       "      <th>3250</th>\n",
       "      <td>for_sale</td>\n",
       "      <td>NaN</td>\n",
       "      <td>NaN</td>\n",
       "      <td>2.95</td>\n",
       "      <td>Lajas</td>\n",
       "      <td>Puerto Rico</td>\n",
       "      <td>667.0</td>\n",
       "      <td>NaN</td>\n",
       "      <td>NaN</td>\n",
       "      <td>210000.0</td>\n",
       "      <td>False</td>\n",
       "    </tr>\n",
       "  </tbody>\n",
       "</table>\n",
       "</div>"
      ],
      "text/plain": [
       "          status  bed  bath  acre_lot           city           state  \\\n",
       "376841  for_sale  NaN   NaN     10.15      Greenwich        New York   \n",
       "329442  for_sale  NaN   NaN     10.00        Morrill           Maine   \n",
       "255709  for_sale  NaN   NaN    184.00    New Hampton   New Hampshire   \n",
       "361614  for_sale  NaN   NaN      1.42          Barre         Vermont   \n",
       "17931   for_sale  NaN   NaN      0.64  Christiansted  Virgin Islands   \n",
       "55020   for_sale  NaN   NaN      6.80    New Lebanon        New York   \n",
       "201206  for_sale  NaN   NaN      6.00  East Sandwich   Massachusetts   \n",
       "34129   for_sale  NaN   NaN      3.99       Hatfield   Massachusetts   \n",
       "260581  for_sale  NaN   NaN      2.11       Thornton   New Hampshire   \n",
       "269298  for_sale  NaN   NaN      1.94     New London   New Hampshire   \n",
       "308274  for_sale  NaN   NaN      9.10       Monmouth           Maine   \n",
       "42633   for_sale  NaN   NaN     32.21         Somers     Connecticut   \n",
       "30870   for_sale  NaN   NaN      0.94         Granby   Massachusetts   \n",
       "261321  for_sale  NaN   NaN     14.06     Washington   New Hampshire   \n",
       "364355  for_sale  NaN   NaN      5.90         Warren         Vermont   \n",
       "103164  for_sale  NaN   NaN      1.94        Concord   Massachusetts   \n",
       "26420   for_sale  NaN   NaN      0.31       Guaynabo     Puerto Rico   \n",
       "399911  for_sale  NaN   NaN      8.00      Westfield   Massachusetts   \n",
       "261810  for_sale  NaN   NaN      4.50        Newport   New Hampshire   \n",
       "3250    for_sale  NaN   NaN      2.95          Lajas     Puerto Rico   \n",
       "\n",
       "        zip_code  house_size prev_sold_date      price   apto  \n",
       "376841   12834.0         NaN            NaN    69950.0  False  \n",
       "329442    4952.0         NaN            NaN    59000.0  False  \n",
       "255709    3256.0         NaN            NaN  1899000.0  False  \n",
       "361614    5641.0         NaN            NaN   285000.0  False  \n",
       "17931      820.0         NaN            NaN    64000.0  False  \n",
       "55020    12212.0         NaN            NaN    89000.0  False  \n",
       "201206    2537.0         NaN            NaN   750000.0  False  \n",
       "34129     1038.0         NaN            NaN    65000.0  False  \n",
       "260581    3285.0         NaN            NaN   150000.0  False  \n",
       "269298    3257.0         NaN            NaN   100000.0  False  \n",
       "308274    4265.0         NaN            NaN    99000.0  False  \n",
       "42633     6071.0         NaN            NaN   299000.0  False  \n",
       "30870     1033.0         NaN            NaN    47000.0  False  \n",
       "261321    3280.0         NaN            NaN   239000.0  False  \n",
       "364355    5674.0         NaN            NaN   300000.0  False  \n",
       "103164    1742.0         NaN            NaN  1975000.0  False  \n",
       "26420      971.0         NaN            NaN   140000.0  False  \n",
       "399911    1085.0         NaN            NaN    55000.0  False  \n",
       "261810    3773.0         NaN            NaN    70000.0  False  \n",
       "3250       667.0         NaN            NaN   210000.0  False  "
      ]
     },
     "execution_count": 410,
     "metadata": {},
     "output_type": "execute_result"
    }
   ],
   "source": [
    "df.loc[df['bed'].isna()  & df['bath'].isna() & df['house_size'].isna()].sample(20)"
   ]
  },
  {
   "cell_type": "markdown",
   "id": "3e0dbeee",
   "metadata": {},
   "source": [
    "Aparentemente, as labels em que não há tamanho da casa, nº de quartos ou banheiros aparentam ter dados referentes ao tamanho do terreno e preço de venda o que embasa melhor a ideia de serem possíveis lotes."
   ]
  },
  {
   "cell_type": "code",
   "execution_count": 411,
   "id": "6a88b7dd",
   "metadata": {},
   "outputs": [],
   "source": [
    "df['lote'] = False\n",
    "df.loc[(df['acre_lot'] > 0) & (df['bed'].isna()) & (df['bath'].isna()) & (df['house_size'].isna()), 'lote'] = True\n",
    "\n",
    "df.loc[df['lote'] == True, ['bed', 'bath', 'house_size']] = 0.0"
   ]
  },
  {
   "cell_type": "code",
   "execution_count": 412,
   "id": "ccfc4dfb",
   "metadata": {},
   "outputs": [
    {
     "data": {
      "text/plain": [
       "status                 0\n",
       "bed                 6273\n",
       "bath                4763\n",
       "acre_lot            2917\n",
       "city                  52\n",
       "state                  0\n",
       "zip_code             197\n",
       "house_size          2016\n",
       "prev_sold_date    266940\n",
       "price                  0\n",
       "apto                   0\n",
       "lote                   0\n",
       "dtype: int64"
      ]
     },
     "execution_count": 412,
     "metadata": {},
     "output_type": "execute_result"
    }
   ],
   "source": [
    "df.isna().sum()"
   ]
  },
  {
   "cell_type": "code",
   "execution_count": 413,
   "id": "ff451c25",
   "metadata": {},
   "outputs": [],
   "source": [
    "hist_vendas = {'prev_sold_date': 0}\n",
    "df.fillna(value=hist_vendas, inplace=True)"
   ]
  },
  {
   "cell_type": "code",
   "execution_count": 414,
   "id": "6b1248ba",
   "metadata": {},
   "outputs": [
    {
     "data": {
      "text/plain": [
       "status               0\n",
       "bed               6273\n",
       "bath              4763\n",
       "acre_lot          2917\n",
       "city                52\n",
       "state                0\n",
       "zip_code           197\n",
       "house_size        2016\n",
       "prev_sold_date       0\n",
       "price                0\n",
       "apto                 0\n",
       "lote                 0\n",
       "dtype: int64"
      ]
     },
     "execution_count": 414,
     "metadata": {},
     "output_type": "execute_result"
    }
   ],
   "source": [
    "df.isna().sum()"
   ]
  },
  {
   "cell_type": "code",
   "execution_count": 415,
   "id": "b233ac9e",
   "metadata": {},
   "outputs": [
    {
     "data": {
      "text/html": [
       "<div>\n",
       "<style scoped>\n",
       "    .dataframe tbody tr th:only-of-type {\n",
       "        vertical-align: middle;\n",
       "    }\n",
       "\n",
       "    .dataframe tbody tr th {\n",
       "        vertical-align: top;\n",
       "    }\n",
       "\n",
       "    .dataframe thead th {\n",
       "        text-align: right;\n",
       "    }\n",
       "</style>\n",
       "<table border=\"1\" class=\"dataframe\">\n",
       "  <thead>\n",
       "    <tr style=\"text-align: right;\">\n",
       "      <th></th>\n",
       "      <th>status</th>\n",
       "      <th>bed</th>\n",
       "      <th>bath</th>\n",
       "      <th>city</th>\n",
       "      <th>state</th>\n",
       "      <th>zip_code</th>\n",
       "      <th>prev_sold_date</th>\n",
       "      <th>price</th>\n",
       "      <th>apto</th>\n",
       "      <th>lote</th>\n",
       "      <th>lote_size_m</th>\n",
       "      <th>house_size_m</th>\n",
       "    </tr>\n",
       "  </thead>\n",
       "  <tbody>\n",
       "    <tr>\n",
       "      <th>0</th>\n",
       "      <td>for_sale</td>\n",
       "      <td>3.0</td>\n",
       "      <td>2.0</td>\n",
       "      <td>Adjuntas</td>\n",
       "      <td>Puerto Rico</td>\n",
       "      <td>601.0</td>\n",
       "      <td>0</td>\n",
       "      <td>105000.0</td>\n",
       "      <td>False</td>\n",
       "      <td>False</td>\n",
       "      <td>485.6</td>\n",
       "      <td>85.5</td>\n",
       "    </tr>\n",
       "    <tr>\n",
       "      <th>1</th>\n",
       "      <td>for_sale</td>\n",
       "      <td>4.0</td>\n",
       "      <td>2.0</td>\n",
       "      <td>Adjuntas</td>\n",
       "      <td>Puerto Rico</td>\n",
       "      <td>601.0</td>\n",
       "      <td>0</td>\n",
       "      <td>80000.0</td>\n",
       "      <td>False</td>\n",
       "      <td>False</td>\n",
       "      <td>323.8</td>\n",
       "      <td>141.9</td>\n",
       "    </tr>\n",
       "    <tr>\n",
       "      <th>2</th>\n",
       "      <td>for_sale</td>\n",
       "      <td>2.0</td>\n",
       "      <td>1.0</td>\n",
       "      <td>Juana Diaz</td>\n",
       "      <td>Puerto Rico</td>\n",
       "      <td>795.0</td>\n",
       "      <td>0</td>\n",
       "      <td>67000.0</td>\n",
       "      <td>False</td>\n",
       "      <td>False</td>\n",
       "      <td>607.0</td>\n",
       "      <td>69.5</td>\n",
       "    </tr>\n",
       "    <tr>\n",
       "      <th>3</th>\n",
       "      <td>for_sale</td>\n",
       "      <td>4.0</td>\n",
       "      <td>2.0</td>\n",
       "      <td>Ponce</td>\n",
       "      <td>Puerto Rico</td>\n",
       "      <td>731.0</td>\n",
       "      <td>0</td>\n",
       "      <td>145000.0</td>\n",
       "      <td>False</td>\n",
       "      <td>False</td>\n",
       "      <td>404.7</td>\n",
       "      <td>167.2</td>\n",
       "    </tr>\n",
       "    <tr>\n",
       "      <th>4</th>\n",
       "      <td>for_sale</td>\n",
       "      <td>6.0</td>\n",
       "      <td>2.0</td>\n",
       "      <td>Mayaguez</td>\n",
       "      <td>Puerto Rico</td>\n",
       "      <td>680.0</td>\n",
       "      <td>0</td>\n",
       "      <td>65000.0</td>\n",
       "      <td>False</td>\n",
       "      <td>False</td>\n",
       "      <td>202.4</td>\n",
       "      <td>NaN</td>\n",
       "    </tr>\n",
       "  </tbody>\n",
       "</table>\n",
       "</div>"
      ],
      "text/plain": [
       "     status  bed  bath        city        state  zip_code prev_sold_date  \\\n",
       "0  for_sale  3.0   2.0    Adjuntas  Puerto Rico     601.0              0   \n",
       "1  for_sale  4.0   2.0    Adjuntas  Puerto Rico     601.0              0   \n",
       "2  for_sale  2.0   1.0  Juana Diaz  Puerto Rico     795.0              0   \n",
       "3  for_sale  4.0   2.0       Ponce  Puerto Rico     731.0              0   \n",
       "4  for_sale  6.0   2.0    Mayaguez  Puerto Rico     680.0              0   \n",
       "\n",
       "      price   apto   lote  lote_size_m  house_size_m  \n",
       "0  105000.0  False  False        485.6          85.5  \n",
       "1   80000.0  False  False        323.8         141.9  \n",
       "2   67000.0  False  False        607.0          69.5  \n",
       "3  145000.0  False  False        404.7         167.2  \n",
       "4   65000.0  False  False        202.4           NaN  "
      ]
     },
     "execution_count": 415,
     "metadata": {},
     "output_type": "execute_result"
    }
   ],
   "source": [
    "df['lote_size_m'] = round(df['acre_lot'] * 4047, 1)\n",
    "df['house_size_m'] = round(df['house_size'] / 10.764, 1)\n",
    "\n",
    "df.drop(columns=['acre_lot', 'house_size'], inplace=True)\n",
    "\n",
    "df.head()"
   ]
  },
  {
   "cell_type": "code",
   "execution_count": 416,
   "id": "b68c90c1",
   "metadata": {},
   "outputs": [
    {
     "data": {
      "text/plain": [
       "status            0\n",
       "bed               0\n",
       "bath              0\n",
       "city              0\n",
       "state             0\n",
       "zip_code          0\n",
       "prev_sold_date    0\n",
       "price             0\n",
       "apto              0\n",
       "lote              0\n",
       "lote_size_m       0\n",
       "house_size_m      0\n",
       "dtype: int64"
      ]
     },
     "execution_count": 416,
     "metadata": {},
     "output_type": "execute_result"
    }
   ],
   "source": [
    "df = df.dropna()\n",
    "df.isna().sum()"
   ]
  },
  {
   "cell_type": "code",
   "execution_count": 417,
   "id": "dc24eaae",
   "metadata": {},
   "outputs": [
    {
     "data": {
      "text/plain": [
       "Massachusetts     170640\n",
       "New Hampshire      49832\n",
       "Vermont            44846\n",
       "Connecticut        37253\n",
       "Maine              35851\n",
       "Rhode Island       28375\n",
       "Puerto Rico        23918\n",
       "New York            5640\n",
       "Virgin Islands      2272\n",
       "Georgia               48\n",
       "Tennessee             20\n",
       "New Jersey            13\n",
       "Virginia              11\n",
       "Wyoming                3\n",
       "Name: state, dtype: int64"
      ]
     },
     "execution_count": 417,
     "metadata": {},
     "output_type": "execute_result"
    }
   ],
   "source": [
    "df['state'].value_counts()"
   ]
  },
  {
   "cell_type": "code",
   "execution_count": 418,
   "id": "aa1ffdf0",
   "metadata": {},
   "outputs": [],
   "source": [
    "remove_states_list = []\n",
    "\n",
    "for state in df['state'].unique():\n",
    "    if df['state'].value_counts()[state] < 1000:\n",
    "        remove_states_list.append(state)\n",
    "        \n",
    "#removendo\n",
    "df = df.loc[~df['state'].isin(remove_states_list)]"
   ]
  },
  {
   "cell_type": "code",
   "execution_count": 419,
   "id": "7e7685d5",
   "metadata": {},
   "outputs": [
    {
     "data": {
      "text/plain": [
       "Massachusetts     170640\n",
       "New Hampshire      49832\n",
       "Vermont            44846\n",
       "Connecticut        37253\n",
       "Maine              35851\n",
       "Rhode Island       28375\n",
       "Puerto Rico        23918\n",
       "New York            5640\n",
       "Virgin Islands      2272\n",
       "Name: state, dtype: int64"
      ]
     },
     "execution_count": 419,
     "metadata": {},
     "output_type": "execute_result"
    }
   ],
   "source": [
    "df['state'].value_counts()"
   ]
  },
  {
   "cell_type": "markdown",
   "id": "39892eea",
   "metadata": {},
   "source": [
    "# Análise Exploratória"
   ]
  },
  {
   "cell_type": "code",
   "execution_count": 420,
   "id": "04e72d9d",
   "metadata": {
    "scrolled": true
   },
   "outputs": [],
   "source": [
    "import matplotlib.pyplot as plt\n",
    "import seaborn as sns\n",
    "\n",
    "#sns.color_palette(\"rocket\", as_cmap=True) #rocket, #crest"
   ]
  },
  {
   "cell_type": "code",
   "execution_count": 421,
   "id": "3bcb3dfe",
   "metadata": {},
   "outputs": [
    {
     "data": {
      "image/png": "[encoded data removed]",
      "text/plain": [
       "<Figure size 640x480 with 1 Axes>"
      ]
     },
     "metadata": {},
     "output_type": "display_data"
    }
   ],
   "source": [
    "sns.histplot(data=df, x='price', kde=True);"
   ]
  },
  {
   "cell_type": "code",
   "execution_count": 422,
   "id": "2b29a0e5",
   "metadata": {},
   "outputs": [
    {
     "data": {
      "text/plain": [
       "<Axes: xlabel='price'>"
      ]
     },
     "execution_count": 422,
     "metadata": {},
     "output_type": "execute_result"
    },
    {
     "data": {
      "image/png": "[encoded data removed]",
      "text/plain": [
       "<Figure size 640x480 with 1 Axes>"
      ]
     },
     "metadata": {},
     "output_type": "display_data"
    }
   ],
   "source": [
    "sns.boxplot(data=df, x='price')"
   ]
  },
  {
   "cell_type": "code",
   "execution_count": 423,
   "id": "0f483ae9",
   "metadata": {
    "scrolled": false
   },
   "outputs": [
    {
     "data": {
      "image/png": "[encoded data removed]",
      "text/plain": [
       "<Figure size 640x480 with 1 Axes>"
      ]
     },
     "metadata": {},
     "output_type": "display_data"
    }
   ],
   "source": [
    "df = df[df['price'] < (df['price'].mean() + 3 * df['price'].std())]\n",
    "sns.histplot(data=df, x='price', kde=True);"
   ]
  },
  {
   "cell_type": "markdown",
   "id": "48237c84",
   "metadata": {},
   "source": [
    "##### Qual o preço médio de um imóvel?"
   ]
  },
  {
   "cell_type": "code",
   "execution_count": 424,
   "id": "f6e74cd4",
   "metadata": {
    "scrolled": false
   },
   "outputs": [
    {
     "data": {
      "image/png": "[encoded data removed]",
      "text/plain": [
       "<Figure size 640x480 with 1 Axes>"
      ]
     },
     "metadata": {},
     "output_type": "display_data"
    }
   ],
   "source": [
    "media = 'Média: ' + str('{:,.0f}K'.format(df['price'].mean()).replace(',', '.'))\n",
    "mediana = 'Mediana: ' + str('{:,.0f}K'.format(df['price'].median()).replace(',', '.'))\n",
    "\n",
    "g = sns.boxplot(data=df, x='price', palette='rocket')\n",
    "\n",
    "plt.text(x=3000000, y=-0.4, s=media)\n",
    "plt.text(x=3000000, y=-0.33, s=mediana)\n",
    "\n",
    "g.set(xlim = (-100000, 4300000))\n",
    "xticks = g.get_xticks()\n",
    "xlabels = ['{:.0f}K'.format(x/1000) for x in xticks]\n",
    "\n",
    "g.set_xticks(xticks)\n",
    "g.set_xticklabels(xlabels);"
   ]
  },
  {
   "cell_type": "markdown",
   "id": "d36df946",
   "metadata": {},
   "source": [
    "##### Qual o preço médio do metro quadrado?"
   ]
  },
  {
   "cell_type": "code",
   "execution_count": 425,
   "id": "64b82cfe",
   "metadata": {},
   "outputs": [],
   "source": [
    "df['preco_m2'] = df['price'] / df['house_size_m']\n",
    "\n",
    "#lidando com valores \"inf\"\n",
    "df.loc[df['house_size_m'] == 0, 'preco_m2'] = 0.0"
   ]
  },
  {
   "cell_type": "code",
   "execution_count": 426,
   "id": "f3a301d6",
   "metadata": {},
   "outputs": [],
   "source": [
    "nolote_df = df.loc[df['preco_m2'] > 0]\n",
    "\n",
    "media_nolote = 'Média: ' + str('{:,.0f}K'.format(nolote_df['preco_m2'].mean()).replace(',', '.'))\n",
    "mediana_nolote = 'Mediana: ' + str('{:,.0f}K'.format(nolote_df['preco_m2'].median()).replace(',', '.'))"
   ]
  },
  {
   "cell_type": "code",
   "execution_count": 427,
   "id": "4381faff",
   "metadata": {},
   "outputs": [
    {
     "data": {
      "image/png": "[encoded data removed]",
      "text/plain": [
       "<Figure size 1200x400 with 2 Axes>"
      ]
     },
     "metadata": {},
     "output_type": "display_data"
    }
   ],
   "source": [
    "plt.figure(figsize=(12,4))\n",
    "plt.subplot(1,2,1)\n",
    "\n",
    "g = sns.boxplot(data=nolote_df, x='preco_m2', palette='crest')\n",
    "\n",
    "plt.text(x=30000, y=-0.4, s=media_nolote)\n",
    "plt.text(x=30000, y=-0.33, s=mediana_nolote)\n",
    "\n",
    "xticks = g.get_xticks()\n",
    "xlabels = ['{:.0f}K'.format(x/1000) for x in xticks]\n",
    "\n",
    "g.set_xticks(xticks)\n",
    "g.set_xticklabels(xlabels);\n",
    "\n",
    "plt.subplot(1,2,2)\n",
    "sns.histplot(data=nolote_df, x='preco_m2');"
   ]
  },
  {
   "cell_type": "markdown",
   "id": "3e6ff0e6",
   "metadata": {},
   "source": [
    "##### Quais os estados com maior número de registro de venda de imóveis? E qual o tamanho médio dela?"
   ]
  },
  {
   "cell_type": "code",
   "execution_count": 428,
   "id": "87822d56",
   "metadata": {},
   "outputs": [
    {
     "data": {
      "image/png": "[encoded data removed]",
      "text/plain": [
       "<Figure size 1200x600 with 2 Axes>"
      ]
     },
     "metadata": {},
     "output_type": "display_data"
    }
   ],
   "source": [
    "plt.figure(figsize=(12,6))\n",
    "\n",
    "plt.subplot(1,2,1)\n",
    "sns.countplot(x=df['state'], order=df['state'].value_counts(ascending=False).index, palette='rocket')\n",
    "plt.title('Estados com maior número de casas à venda')\n",
    "plt.xticks(rotation=60);\n",
    "\n",
    "plt.subplot(1,2,2)\n",
    "sns.barplot(data=df, x='state', y='house_size_m', estimator='mean', \n",
    "            order=df['state'].value_counts(ascending=False).index, palette='rocket')\n",
    "plt.title('Tamanho médio de uma casa por estado')\n",
    "plt.xticks(rotation=60);\n",
    "\n",
    "mean_house_size = df.groupby('state')['house_size_m'].mean()\n",
    "mean_house_size_ordered = mean_house_size[df['state'].value_counts(ascending=False).index]\n",
    "\n",
    "for i, mean_value in enumerate(mean_house_size_ordered):\n",
    "    plt.text(i, 30, f'{mean_value:.0f}m²', ha='center', va='bottom', rotation=90, fontsize=12, color='white')"
   ]
  },
  {
   "cell_type": "markdown",
   "id": "4b3f692f",
   "metadata": {},
   "source": [
    "##### Qual o preço médio de uma casa por estado? E o preço por metro quadrado?"
   ]
  },
  {
   "cell_type": "code",
   "execution_count": 429,
   "id": "c7324d36",
   "metadata": {},
   "outputs": [
    {
     "data": {
      "image/png": "[encoded data removed]",
      "text/plain": [
       "<Figure size 1200x600 with 2 Axes>"
      ]
     },
     "metadata": {},
     "output_type": "display_data"
    }
   ],
   "source": [
    "plt.figure(figsize=(12,6))\n",
    "\n",
    "plt.subplot(1,2,1)\n",
    "sns.barplot(data=df, x='state', y='preco_m2', order=df['state'].value_counts(ascending=False).index, palette='crest')\n",
    "plt.title('Preço médio do metro quadrado por estado')\n",
    "plt.xlabel('Estado')\n",
    "plt.ylabel('Preço por m²')\n",
    "plt.xticks(rotation=60);\n",
    "\n",
    "mean_values_m2 = df.groupby('state')['preco_m2'].mean()\n",
    "\n",
    "mean_values_ordered = mean_values_m2[df['state'].value_counts(ascending=False).index]\n",
    "\n",
    "for i, mean_value in enumerate(mean_values_ordered):\n",
    "    plt.text(i, mean_value+60, f'${mean_value:.0f}', ha='center', va='bottom', fontsize=10)\n",
    "\n",
    "plt.subplot(1,2,2)\n",
    "sns.barplot(data=df, x='state', y='price', order=df['state'].value_counts(ascending=False).index, palette='crest')\n",
    "plt.title('Preço médio de uma casa por estado')\n",
    "plt.xlabel('Estado')\n",
    "plt.ylabel('Preço')\n",
    "plt.xticks(rotation=60);\n",
    "\n",
    "mean_values_price = df.groupby('state')['price'].mean()\n",
    "mean_values_price_ordered = mean_values_price[df['state'].value_counts(ascending=False).index]\n",
    "\n",
    "for i, mean_value in enumerate(mean_values_price_ordered):\n",
    "    mean_value_formatted = str(f'${mean_value:,.0f}').replace(',','.')\n",
    "    plt.text(i, 100000, mean_value_formatted, ha='center', va='bottom', rotation=90, fontsize=12)"
   ]
  },
  {
   "cell_type": "markdown",
   "id": "04ca6de7",
   "metadata": {},
   "source": [
    "##### Existe uma correlação entre o tamanho da casa e o preço? E o tamanho do terreno? Qual deles influência mais?"
   ]
  },
  {
   "cell_type": "code",
   "execution_count": 437,
   "id": "1126d43d",
   "metadata": {},
   "outputs": [
    {
     "name": "stdout",
     "output_type": "stream",
     "text": [
      "Correlação Tamanho da Casa-Preço de: 0.396, P-Value: 0.0\n",
      "Correlação Tamanho do Terreno-Preço de: 0.007, P-Value: 0.052\n"
     ]
    }
   ],
   "source": [
    "from scipy.stats import pearsonr\n",
    "house_apto = df.loc[df['house_size_m'] > 0]\n",
    "corr, p = pearsonr(house_apto['price'], house_apto['house_size_m'])\n",
    "\n",
    "lotes = df.loc[df['house_size_m'] == 0]\n",
    "corr2, p2 = pearsonr(lotes['price'], lotes['lote_size_m'])\n",
    "print(f'Correlação Tamanho da Casa-Preço de: {round(corr,3)}, P-Value: {round(p,3)}')\n",
    "print(f'Correlação Tamanho do Terreno-Preço de: {round(corr2,3)}, P-Value: {round(p2,3)}')"
   ]
  },
  {
   "cell_type": "code",
   "execution_count": 431,
   "id": "dc921dbb",
   "metadata": {},
   "outputs": [
    {
     "data": {
      "image/png": "[encoded data removed]",
      "text/plain": [
       "<Figure size 640x480 with 1 Axes>"
      ]
     },
     "metadata": {},
     "output_type": "display_data"
    }
   ],
   "source": [
    "#filtered_df = df.loc[df['house_size_m'] != 0].sample(1000)\n",
    "ax = sns.regplot(data=filtered_df, y='house_size_m', x='price')\n",
    "plt.text(3.0e6, 1100, f'Correlação: {round(corr,3)}')\n",
    "plt.text(3.0e6, 1000, f'P-Value: {p}');\n",
    "\n",
    "xticks = ax.get_xticks()\n",
    "xlabels = ['{:.0f}K'.format(x/1000) for x in xticks]\n",
    "\n",
    "ax.set_xticks(xticks)\n",
    "ax.set_xticklabels(xlabels);"
   ]
  },
  {
   "cell_type": "markdown",
   "id": "3b40813f",
   "metadata": {},
   "source": [
    "##### Há uma correlação entre o número de banheiros e quartos de uma casa com o seu preço?"
   ]
  },
  {
   "cell_type": "code",
   "execution_count": 441,
   "id": "23437ba2",
   "metadata": {},
   "outputs": [
    {
     "name": "stdout",
     "output_type": "stream",
     "text": [
      "Correlação Nº de Banheiros-Preço de: 0.505, P-Value: 0.0\n",
      "Correlação Nº de Quartos-Preço de: 0.229, P-Value: 0.0\n"
     ]
    }
   ],
   "source": [
    "corr3, p3 = pearsonr(house_apto['price'], house_apto['bath'])\n",
    "corr4, p4 = pearsonr(house_apto['price'], house_apto['bed'])\n",
    "\n",
    "print(f'Correlação Nº de Banheiros-Preço de: {round(corr3,3)}, P-Value: {round(p3,3)}')\n",
    "print(f'Correlação Nº de Quartos-Preço de: {round(corr4,3)}, P-Value: {round(p4,3)}')"
   ]
  },
  {
   "cell_type": "markdown",
   "id": "a468d4b7",
   "metadata": {},
   "source": [
    "##### Qual o preço médio de um terreno? E de um apartamento?"
   ]
  },
  {
   "cell_type": "code",
   "execution_count": 447,
   "id": "6813e915",
   "metadata": {},
   "outputs": [
    {
     "data": {
      "text/plain": [
       "apto\n",
       "False    533027.117521\n",
       "True     695708.161998\n",
       "Name: price, dtype: float64"
      ]
     },
     "execution_count": 447,
     "metadata": {},
     "output_type": "execute_result"
    }
   ],
   "source": [
    "df.groupby('apto')['price'].mean()"
   ]
  },
  {
   "cell_type": "code",
   "execution_count": null,
   "id": "062b4a8c",
   "metadata": {},
   "outputs": [],
   "source": []
  },
  {
   "cell_type": "code",
   "execution_count": null,
   "id": "08f20a56",
   "metadata": {},
   "outputs": [],
   "source": []
  },
  {
   "cell_type": "code",
   "execution_count": null,
   "id": "5a6011f7",
   "metadata": {},
   "outputs": [],
   "source": []
  },
  {
   "cell_type": "code",
   "execution_count": null,
   "id": "125d12cd",
   "metadata": {},
   "outputs": [],
   "source": [
    "plt.figure(figsize=(12,6))\n",
    "\n",
    "plt.subplot(1,2,1)\n",
    "sns.barplot(data=df, x='state', y='preco_m2', order=df['state'].value_counts(ascending=False).index, palette='crest')\n",
    "plt.title('Preço médio do metro quadrado por estado')\n",
    "plt.xlabel('Estado')\n",
    "plt.ylabel('Preço por m²')\n",
    "plt.xticks(rotation=60);\n",
    "\n",
    "mean_values_m2 = df.groupby('state')['preco_m2'].mean()\n",
    "\n",
    "mean_values_ordered = mean_values_m2[df['state'].value_counts(ascending=False).index]\n",
    "\n",
    "for i, mean_value in enumerate(mean_values_ordered):\n",
    "    plt.text(i, mean_value+60, f'${mean_value:.0f}', ha='center', va='bottom', fontsize=10)\n",
    "\n",
    "plt.subplot(1,2,2)\n",
    "sns.barplot(data=df, x='state', y='price', order=df['state'].value_counts(ascending=False).index, palette='crest')\n",
    "plt.title('Preço médio de uma casa por estado')\n",
    "plt.xlabel('Estado')\n",
    "plt.ylabel('Preço')\n",
    "plt.xticks(rotation=60);\n",
    "\n",
    "mean_values_price = df.groupby('state')['price'].mean()\n",
    "mean_values_price_ordered = mean_values_price[df['state'].value_counts(ascending=False).index]\n",
    "\n",
    "for i, mean_value in enumerate(mean_values_price_ordered):\n",
    "    mean_value_formatted = str(f'${mean_value:,.0f}').replace(',','.')\n",
    "    plt.text(i, 100000, mean_value_formatted, ha='center', va='bottom', rotation=90, fontsize=12)"
   ]
  },
  {
   "cell_type": "code",
   "execution_count": null,
   "id": "9a8bc179",
   "metadata": {},
   "outputs": [],
   "source": []
  },
  {
   "cell_type": "markdown",
   "id": "d0ced6a4",
   "metadata": {},
   "source": [
    "## Ask & answer questions\n",
    "- Preço médio de uma casa? Preço do metro quadrado? | RESPONDIDO | RESPONDIDO |\n",
    "- Preço médio de uma casa em cada estado? Preço do metro quadrado? | RESPONDIDO | RESPONDIDO |\n",
    "- Existe uma correlação entre o tamanho da casa e o preço? E o tamanho do terreno? Qual deles influência mais? | RESPONDIDO | RESPONDIDO |\n",
    "- Há uma correlação entre o número de banheiros e quartos de uma casa com o seu preço?\n",
    "- Qual o preço médio de um terreno? E de um apartamento?"
   ]
  },
  {
   "cell_type": "markdown",
   "id": "ae2da13a",
   "metadata": {},
   "source": [
    "## Summary and Conclusion\n",
    "- Apenas 15 estados estão incluídos na lista\n",
    "- Apenas 12 estados tem uma quantidade de dados consideráveis para a realização de análises\n",
    "- A exorbitante maioria das vendas está localizada em estados de uma subregião dos EUA chamada Nova Inglaterra. Os insights dessa análise podem ser diferentes quando considerados dados de outras regiões americanas."
   ]
  }
 ],
 "metadata": {
  "kernelspec": {
   "display_name": "Python 3 (ipykernel)",
   "language": "python",
   "name": "python3"
  },
  "language_info": {
   "codemirror_mode": {
    "name": "ipython",
    "version": 3
   },
   "file_extension": ".py",
   "mimetype": "text/x-python",
   "name": "python",
   "nbconvert_exporter": "python",
   "pygments_lexer": "ipython3",
   "version": "3.10.9"
  }
 },
 "nbformat": 4,
 "nbformat_minor": 5
}
